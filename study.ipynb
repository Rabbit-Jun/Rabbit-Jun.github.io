{
 "cells": [
  {
   "cell_type": "code",
   "execution_count": 1,
   "metadata": {},
   "outputs": [
    {
     "name": "stdout",
     "output_type": "stream",
     "text": [
      "torch.Size([6])\n",
      "tensor([[[0]],\n",
      "\n",
      "        [[1]],\n",
      "\n",
      "        [[2]],\n",
      "\n",
      "        [[3]],\n",
      "\n",
      "        [[4]],\n",
      "\n",
      "        [[5]]])\n",
      "torch.Size([6, 1, 1])\n"
     ]
    }
   ],
   "source": [
    "import torch\n",
    "\n",
    "tensor = torch.tensor([0,1,2, 3,4,5])\n",
    "print(tensor.size())\n",
    "unsqueeze_tensor = torch.unsqueeze(tensor, dim =1)\n",
    "unsqueeze_tensor = torch.unsqueeze(unsqueeze_tensor, dim =2)\n",
    "print (unsqueeze_tensor)\n",
    "print (unsqueeze_tensor.size())"
   ]
  },
  {
   "cell_type": "code",
   "execution_count": 10,
   "metadata": {},
   "outputs": [
    {
     "name": "stdout",
     "output_type": "stream",
     "text": [
      "/home/jun/miniconda3/envs/myblog/bin/python\n"
     ]
    }
   ],
   "source": [
    "import sys\n",
    "print(sys.executable)\n"
   ]
  },
  {
   "cell_type": "code",
   "execution_count": 3,
   "metadata": {},
   "outputs": [
    {
     "name": "stdout",
     "output_type": "stream",
     "text": [
      "image_id: b6ab77fd7\n",
      "\n"
     ]
    }
   ],
   "source": [
    "import pandas as pd\n",
    "from io import StringIO\n",
    "\n",
    "# 주어진 CSV 데이터\n",
    "csv_data = \"\"\"\n",
    "image_id,width,height,bbox,source\n",
    "b6ab77fd7,1024,1024,\"[834.0, 222.0, 56.0, 36.0]\",usask_1\n",
    "b6ab77fd7,1024,1024,\"[226.0, 548.0, 130.0, 58.0]\",usask_1\n",
    "b6ab77fd7,1024,1024,\"[377.0, 504.0, 74.0, 160.0]\",usask_1\n",
    "b6ab77fd7,1024,1024,\"[834.0, 95.0, 109.0, 107.0]\",usask_1\n",
    "b6ab77fd7,1024,1024,\"[26.0, 144.0, 124.0, 117.0]\",usask_1\n",
    "b6ab77fd7,1024,1024,\"[569.0, 382.0, 119.0, 111.0]\",usask_1\n",
    "b6ab77fd7,1024,1024,\"[52.0, 602.0, 82.0, 45.0]\",usask_1\n",
    "b6ab77fd7,1024,1024,\"[627.0, 302.0, 122.0, 75.0]\",usask_1\n",
    "b6ab77fd7,1024,1024,\"[412.0, 367.0, 68.0, 82.0]\",usask_1\n",
    "b6ab77fd7,1024,1024,\"[953.0, 220.0, 56.0, 103.0]\",usask_1\n",
    "b6ab77fd7,1024,1024,\"[30.0, 70.0, 126.0, 133.0]\",usask_1\n",
    "b6ab77fd7,1024,1024,\"[35.0, 541.0, 46.0, 46.0]\",usask_1\n",
    "b6ab77fd7,1024,1024,\"[103.0, 60.0, 117.0, 83.0]\",usask_1\n",
    "b6ab77fd7,1024,1024,\"[417.0, 4.0, 110.0, 91.0]\",usask_1\n",
    "b6ab77fd7,1024,1024,\"[764.0, 299.0, 119.0, 93.0]\",usask_1\n",
    "\"\"\"\n",
    "\n",
    "# CSV 데이터를 DataFrame으로 읽어오기\n",
    "df = pd.read_csv(StringIO(csv_data))\n",
    "\n",
    "# 'image_id'로 그룹화\n",
    "grouped = df.groupby(by='image_id')\n",
    "\n",
    "# 그룹화된 데이터프레임을 딕셔너리로 변환\n",
    "grouped_dict = {image_id: group for image_id, group in grouped}\n",
    "\n",
    "# grouped_dict를 확인\n",
    "for image_id, group in grouped_dict.items():\n",
    "    print(f\"image_id: {image_id}\")\n",
    " \n",
    "    print()"
   ]
  },
  {
   "cell_type": "code",
   "execution_count": 2,
   "metadata": {},
   "outputs": [
    {
     "name": "stdout",
     "output_type": "stream",
     "text": [
      "     image_id  width  height                          bbox   source\n",
      "0   b6ab77fd7   1024    1024    [834.0, 222.0, 56.0, 36.0]  usask_1\n",
      "1   b6ab77fd7   1024    1024   [226.0, 548.0, 130.0, 58.0]  usask_1\n",
      "2   b6ab77fd7   1024    1024   [377.0, 504.0, 74.0, 160.0]  usask_1\n",
      "3   b6ab77fd7   1024    1024   [834.0, 95.0, 109.0, 107.0]  usask_1\n",
      "4   b6ab77fd7   1024    1024   [26.0, 144.0, 124.0, 117.0]  usask_1\n",
      "5   b6ab77fd7   1024    1024  [569.0, 382.0, 119.0, 111.0]  usask_1\n",
      "6   b6ab77fd7   1024    1024     [52.0, 602.0, 82.0, 45.0]  usask_1\n",
      "7   b6ab77fd7   1024    1024   [627.0, 302.0, 122.0, 75.0]  usask_1\n",
      "8   b6ab77fd7   1024    1024    [412.0, 367.0, 68.0, 82.0]  usask_1\n",
      "9   b6ab77fd7   1024    1024   [953.0, 220.0, 56.0, 103.0]  usask_1\n",
      "10  b6ab77fd7   1024    1024    [30.0, 70.0, 126.0, 133.0]  usask_1\n",
      "11  b6ab77fd7   1024    1024     [35.0, 541.0, 46.0, 46.0]  usask_1\n",
      "12  b6ab77fd7   1024    1024    [103.0, 60.0, 117.0, 83.0]  usask_1\n",
      "13  b6ab77fd7   1024    1024     [417.0, 4.0, 110.0, 91.0]  usask_1\n",
      "14  b6ab77fd7   1024    1024   [764.0, 299.0, 119.0, 93.0]  usask_1\n"
     ]
    }
   ],
   "source": [
    "print(group)"
   ]
  },
  {
   "cell_type": "code",
   "execution_count": 4,
   "metadata": {},
   "outputs": [
    {
     "name": "stdout",
     "output_type": "stream",
     "text": [
      "defaultdict(<class 'list'>, {'a': [1, 3], 'b': [2]})\n"
     ]
    }
   ],
   "source": [
    "from collections import defaultdict\n",
    "\n",
    "res = defaultdict(list)\n",
    "\n",
    "res['a'].append(1)\n",
    "res['b'].append(2)\n",
    "res['a'].append(3)\n",
    "\n",
    "print(res)"
   ]
  },
  {
   "cell_type": "code",
   "execution_count": 1,
   "metadata": {},
   "outputs": [
    {
     "ename": "KeyError",
     "evalue": "'a'",
     "output_type": "error",
     "traceback": [
      "\u001b[0;31m---------------------------------------------------------------------------\u001b[0m",
      "\u001b[0;31mKeyError\u001b[0m                                  Traceback (most recent call last)",
      "Cell \u001b[0;32mIn[1], line 3\u001b[0m\n\u001b[1;32m      1\u001b[0m res1 \u001b[38;5;241m=\u001b[39m {}\n\u001b[0;32m----> 3\u001b[0m \u001b[43mres1\u001b[49m\u001b[43m[\u001b[49m\u001b[38;5;124;43m'\u001b[39;49m\u001b[38;5;124;43ma\u001b[39;49m\u001b[38;5;124;43m'\u001b[39;49m\u001b[43m]\u001b[49m\u001b[38;5;241m.\u001b[39mappend(\u001b[38;5;241m1\u001b[39m)\n\u001b[1;32m      4\u001b[0m res1[\u001b[38;5;124m'\u001b[39m\u001b[38;5;124mb\u001b[39m\u001b[38;5;124m'\u001b[39m]\u001b[38;5;241m.\u001b[39mappend(\u001b[38;5;241m2\u001b[39m)\n\u001b[1;32m      7\u001b[0m \u001b[38;5;28mprint\u001b[39m(res1)\n",
      "\u001b[0;31mKeyError\u001b[0m: 'a'"
     ]
    }
   ],
   "source": [
    "res1 = {}\n",
    "\n",
    "res1['a'].append(1)\n",
    "res1['b'].append(2)\n",
    "\n",
    "\n",
    "print(res1)"
   ]
  },
  {
   "cell_type": "code",
   "execution_count": 2,
   "metadata": {},
   "outputs": [
    {
     "name": "stdout",
     "output_type": "stream",
     "text": [
      "[100 120 140]\n"
     ]
    }
   ],
   "source": [
    "import numpy as np\n",
    "\n",
    "p = {\n",
    "    'boxes': np.array([\n",
    "        [100, 150, 200, 250],\n",
    "        [120, 160, 220, 260],\n",
    "        [140, 180, 240, 280]\n",
    "    ])\n",
    "}\n",
    "\n",
    "first_column = p['boxes'][:, 0]\n",
    "print(first_column)\n"
   ]
  },
  {
   "cell_type": "code",
   "execution_count": 4,
   "metadata": {},
   "outputs": [
    {
     "data": {
      "text/plain": [
       "[[1, 'a'], [2, 'b'], [3, 'c']]"
      ]
     },
     "execution_count": 4,
     "metadata": {},
     "output_type": "execute_result"
    }
   ],
   "source": [
    "import pandas as pd\n",
    "\n",
    "df = pd.DataFrame({'value': [1,2,3], 'test': ['a', 'b', 'c']})\n",
    "\n",
    "df.values.tolist()"
   ]
  },
  {
   "cell_type": "code",
   "execution_count": null,
   "metadata": {},
   "outputs": [],
   "source": []
  }
 ],
 "metadata": {
  "kernelspec": {
   "display_name": "Python (myblog)",
   "language": "python",
   "name": "myblog"
  },
  "language_info": {
   "codemirror_mode": {
    "name": "ipython",
    "version": 3
   },
   "file_extension": ".py",
   "mimetype": "text/x-python",
   "name": "python",
   "nbconvert_exporter": "python",
   "pygments_lexer": "ipython3",
   "version": "3.10.0"
  }
 },
 "nbformat": 4,
 "nbformat_minor": 2
}
